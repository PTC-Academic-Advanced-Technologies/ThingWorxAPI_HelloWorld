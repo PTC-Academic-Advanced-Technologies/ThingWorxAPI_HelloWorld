{
  "nbformat": 4,
  "nbformat_minor": 0,
  "metadata": {
    "colab": {
      "name": "HelloWorld_ThingWorxAPI.ipynb",
      "provenance": [],
      "collapsed_sections": [],
      "authorship_tag": "ABX9TyNBuoXNrVo9ZLKnBuPJ3zXh",
      "include_colab_link": true
    },
    "kernelspec": {
      "name": "python3",
      "display_name": "Python 3"
    }
  },
  "cells": [
    {
      "cell_type": "markdown",
      "metadata": {
        "id": "view-in-github",
        "colab_type": "text"
      },
      "source": [
        "<a href=\"https://colab.research.google.com/github/PTC-Academic-Advanced-Technologies/ThingWorxAPI_HelloWorld/blob/master/HelloWorld_ThingWorxAPI.ipynb\" target=\"_parent\"><img src=\"https://colab.research.google.com/assets/colab-badge.svg\" alt=\"Open In Colab\"/></a>"
      ]
    },
    {
      "cell_type": "markdown",
      "metadata": {
        "id": "TM9IV3ZIih70"
      },
      "source": [
        "#Hello World - ThingWorx API\n",
        "\n",
        "##Get Request\n",
        "Below is an example of getting property values from ThingWorx. Make sure your appKey, property name, and url are set as strings. Your JSON may be formatted differently based on the setup of your Thing."
      ]
    },
    {
      "cell_type": "code",
      "metadata": {
        "colab": {
          "base_uri": "https://localhost:8080/"
        },
        "id": "ckt6MxcKAkCr",
        "outputId": "313ac8de-8f15-4820-b90c-4ecbf0b4162f"
      },
      "source": [
        "import requests\n",
        "import json\n",
        "\n",
        "appKey = '<ThingWorx appKey here>'\n",
        "propName = 'BaseAngle'\n",
        "URL = 'https://pp-2101111403aw.portal.ptc.io/Thingworx/Things/MM_PLTW/Properties'\n",
        "\n",
        "headers = {\n",
        "        'appKey': appKey,\n",
        "        'accept': 'application/json',\n",
        "        'Content-Type':'application/json'\n",
        "    }\n",
        "\n",
        "response = requests.get(URL,headers=headers)\n",
        "\n",
        "FullResponse = json.dumps(response.json(), indent=4, sort_keys=True)\n",
        "\n",
        "#print(FullResponse) #this prints a well formatted version of the JSON response\n",
        "print(response.json()['rows'][0][propName]) #this prints just the value of your specified property"
      ],
      "execution_count": 45,
      "outputs": [
        {
          "output_type": "stream",
          "text": [
            "1234\n"
          ],
          "name": "stdout"
        }
      ]
    },
    {
      "cell_type": "markdown",
      "metadata": {
        "id": "OJDP6NuBj1OL"
      },
      "source": [
        "##Put Requests\n",
        "\n",
        "Below is an example of setting a property value in a Thing with a put request. Again, make sure your parameters are all in quotes. You'll know it worked if you get a \"200\" response."
      ]
    },
    {
      "cell_type": "code",
      "metadata": {
        "colab": {
          "base_uri": "https://localhost:8080/"
        },
        "id": "8K1nd57FSHnc",
        "outputId": "eaf18bc3-8047-4683-f3cf-90dd4065d695"
      },
      "source": [
        "import requests\n",
        "\n",
        "appKey = '<ThingWorx appKey here>'\n",
        "propName = 'WristAngle'\n",
        "value = '1014'\n",
        "url = \"https://pp-2101111403aw.portal.ptc.io/Thingworx/Things/MM_PLTW/Properties/\"+propName #end of URL should have the property name\n",
        "\n",
        "payload=\"{\\\"\"+propName+\"\\\":\"+value+\"}\"\n",
        "headers = {\n",
        "  'appKey': '710328e7-792d-434f-80b1-be109b0b8566',\n",
        "  'Content-Type': 'application/json'\n",
        "}\n",
        "\n",
        "response = requests.request(\"PUT\", url, headers=headers, data=payload)\n",
        "\n",
        "print(response)"
      ],
      "execution_count": 43,
      "outputs": [
        {
          "output_type": "stream",
          "text": [
            "<Response [200]>\n"
          ],
          "name": "stdout"
        }
      ]
    }
  ]
}